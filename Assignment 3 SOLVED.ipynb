{
 "cells": [
  {
   "cell_type": "markdown",
   "metadata": {},
   "source": [
    "# Assignment 3"
   ]
  },
  {
   "cell_type": "markdown",
   "metadata": {},
   "source": [
    "### Write a function to count the number 4 in a given list."
   ]
  },
  {
   "cell_type": "code",
   "execution_count": 29,
   "metadata": {},
   "outputs": [
    {
     "name": "stdout",
     "output_type": "stream",
     "text": [
      "please enter numbers list4 4 4 \n"
     ]
    },
    {
     "data": {
      "text/plain": [
       "3"
      ]
     },
     "execution_count": 29,
     "metadata": {},
     "output_type": "execute_result"
    }
   ],
   "source": [
    "def c4(ls):\n",
    "    i = 0\n",
    "    for num in ls:\n",
    "        if int(num) == 4:\n",
    "            i +=1\n",
    "    return i\n",
    "x = input('please enter numbers list').split()\n",
    "c4(x)"
   ]
  },
  {
   "cell_type": "markdown",
   "metadata": {},
   "source": [
    "### write a  function to check whether a number is divisible by another number."
   ]
  },
  {
   "cell_type": "code",
   "execution_count": 11,
   "metadata": {},
   "outputs": [
    {
     "name": "stdout",
     "output_type": "stream",
     "text": [
      "please enter the dividand9\n",
      "please enter the divisor3\n",
      "9 is divisible by 3\n"
     ]
    }
   ],
   "source": [
    "def ndn(dv, dvs):\n",
    "    if dv % dvs == 0:\n",
    "        print('{} is divisible by {}' .format(dv, dvs))\n",
    "        \n",
    "dv = int(input('please enter the dividand'))\n",
    "dvs = int(input('please enter the divisor'))\n",
    "ndn(dv, dvs)"
   ]
  },
  {
   "cell_type": "markdown",
   "metadata": {},
   "source": [
    "### write a function to find the maximum and minimum numbers from a sequence of numbers."
   ]
  },
  {
   "cell_type": "code",
   "execution_count": 32,
   "metadata": {},
   "outputs": [
    {
     "name": "stdout",
     "output_type": "stream",
     "text": [
      "enter the list1 2 3 5 9 -1\n",
      "The max num is 9, and the min num is -1\n"
     ]
    }
   ],
   "source": [
    "#TBH I had help in this one from a friend.\n",
    "def mn_mx(ls):\n",
    "    mn = ls[0]\n",
    "    mx = ls[0]\n",
    "    for num in ls:\n",
    "        if mx <= num:\n",
    "            mx = num\n",
    "        if mn >= num:\n",
    "            mn = num\n",
    "    return mx,mn\n",
    "ls = input('enter the list').split()\n",
    "mx, mn = mn_mx(ls)\n",
    "print('The max num is {}, and the min num is {}'.format(mx, mn))"
   ]
  },
  {
   "cell_type": "markdown",
   "metadata": {},
   "source": [
    "### Write a Python function that takes two lists and returns True if they have at least one common member."
   ]
  },
  {
   "cell_type": "code",
   "execution_count": 33,
   "metadata": {},
   "outputs": [
    {
     "name": "stdout",
     "output_type": "stream",
     "text": [
      "enter the first list1 2 3 5 6 \n",
      "enter the second list3 8 9 7\n"
     ]
    },
    {
     "data": {
      "text/plain": [
       "True"
      ]
     },
     "execution_count": 33,
     "metadata": {},
     "output_type": "execute_result"
    }
   ],
   "source": [
    "def matching(ls1, ls2):\n",
    "    res = False\n",
    "    for el1 in ls1:\n",
    "        for el2 in ls2:\n",
    "            if el1 == el2:\n",
    "                res = True\n",
    "    return res\n",
    "x = input('enter the first list').split()\n",
    "y = input('enter the second list').split()\n",
    "matching(x, y)"
   ]
  },
  {
   "cell_type": "markdown",
   "metadata": {},
   "source": [
    "### Write a Python function to calculate the factorial of a number (a non-negative integer). The function accepts the number from the user"
   ]
  },
  {
   "cell_type": "code",
   "execution_count": 36,
   "metadata": {},
   "outputs": [
    {
     "name": "stdout",
     "output_type": "stream",
     "text": [
      "please enter the number3\n"
     ]
    },
    {
     "data": {
      "text/plain": [
       "6"
      ]
     },
     "execution_count": 36,
     "metadata": {},
     "output_type": "execute_result"
    }
   ],
   "source": [
    "def fact(num):\n",
    "    if num == 1:\n",
    "        return 1\n",
    "    else:\n",
    "        return num * fact(num-1)\n",
    "    \n",
    "f = int(input('please enter the number'))\n",
    "fact(f)"
   ]
  },
  {
   "cell_type": "markdown",
   "metadata": {},
   "source": [
    "### Write a Python function to check whether a number is in a given range.\n",
    "\n",
    "### The range is from 3 to 11\n"
   ]
  },
  {
   "cell_type": "code",
   "execution_count": 43,
   "metadata": {},
   "outputs": [
    {
     "name": "stdout",
     "output_type": "stream",
     "text": [
      "enter the number to check wheather or not it's in range15\n"
     ]
    },
    {
     "data": {
      "text/plain": [
       "False"
      ]
     },
     "execution_count": 43,
     "metadata": {},
     "output_type": "execute_result"
    }
   ],
   "source": [
    "def rng(num):\n",
    "    b = False\n",
    "    for x in range(3, 11):\n",
    "        if num == x:\n",
    "            b = True\n",
    "    return b\n",
    "num = int(input('enter the number to check wheather or not it\\'s in range'))\n",
    "rng(num)"
   ]
  },
  {
   "cell_type": "markdown",
   "metadata": {},
   "source": [
    "### Write a  program to create the multiplication table (from 1 to 10) of a number."
   ]
  },
  {
   "cell_type": "code",
   "execution_count": 48,
   "metadata": {},
   "outputs": [
    {
     "name": "stdout",
     "output_type": "stream",
     "text": [
      "enter a number to get its multipication table5\n"
     ]
    },
    {
     "data": {
      "text/plain": [
       "[5, 10, 15, 20, 25, 30, 35, 40, 45, 50]"
      ]
     },
     "execution_count": 48,
     "metadata": {},
     "output_type": "execute_result"
    }
   ],
   "source": [
    "def ml(num):\n",
    "    mt = list()\n",
    "    for x in range(1, 11):\n",
    "        mt.append(x*num)\n",
    "    return mt\n",
    "\n",
    "x = int(input('enter a number to get its multipication table'))\n",
    "ml(x)"
   ]
  },
  {
   "cell_type": "markdown",
   "metadata": {},
   "source": [
    "#### LESSER OF TWO EVENS: Write a function that returns the lesser of two given numbers *if* both numbers are even, but returns the greater if one or both numbers are odd\n",
    "    lesser_of_two_evens(2,4) --> 2\n",
    "    lesser_of_two_evens(2,5) --> 5"
   ]
  },
  {
   "cell_type": "code",
   "execution_count": 7,
   "metadata": {},
   "outputs": [
    {
     "ename": "SyntaxError",
     "evalue": "invalid syntax (4201534995.py, line 2)",
     "output_type": "error",
     "traceback": [
      "\u001b[1;36m  Input \u001b[1;32mIn [7]\u001b[1;36m\u001b[0m\n\u001b[1;33m    if int x%2 == 0 and y%2 == 0:\u001b[0m\n\u001b[1;37m           ^\u001b[0m\n\u001b[1;31mSyntaxError\u001b[0m\u001b[1;31m:\u001b[0m invalid syntax\n"
     ]
    }
   ],
   "source": [
    "def rle_lgo(x, y):\n",
    "    if int x % 2 == 0 and y%2 == 0:\n",
    "        if int x >= y:\n",
    "            res = y\n",
    "    else:     \n",
    "        if int x <= y:\n",
    "            res = y\n",
    "            \n",
    "    return res\n",
    "\n",
    "a = int( input('enter the first number'))\n",
    "b = int( input('enter the second number'))\n",
    "rle_lgo(a, b)"
   ]
  },
  {
   "cell_type": "code",
   "execution_count": null,
   "metadata": {},
   "outputs": [],
   "source": []
  }
 ],
 "metadata": {
  "kernelspec": {
   "display_name": "Python 3 (ipykernel)",
   "language": "python",
   "name": "python3"
  },
  "language_info": {
   "codemirror_mode": {
    "name": "ipython",
    "version": 3
   },
   "file_extension": ".py",
   "mimetype": "text/x-python",
   "name": "python",
   "nbconvert_exporter": "python",
   "pygments_lexer": "ipython3",
   "version": "3.9.12"
  }
 },
 "nbformat": 4,
 "nbformat_minor": 2
}
