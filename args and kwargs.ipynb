{
 "cells": [
  {
   "cell_type": "markdown",
   "id": "13a10388",
   "metadata": {},
   "source": [
    "### *args EXAMPLES"
   ]
  },
  {
   "cell_type": "code",
   "execution_count": 4,
   "id": "8cbccce2",
   "metadata": {},
   "outputs": [
    {
     "name": "stdout",
     "output_type": "stream",
     "text": [
      "enter your name please \n",
      "moaz\n",
      "you, as well, please enter your name \n",
      "ahmed\n",
      "hello moaz and also hello ahmed\n"
     ]
    }
   ],
   "source": [
    "def greeting(*name):\n",
    "    print('hello {} and also hello {}' .format(name1, name2))\n",
    "\n",
    "name1 = input('enter your name please \\n')\n",
    "name2 = input('you, as well, please enter your name \\n')\n",
    "greeting(name1, name2)"
   ]
  },
  {
   "cell_type": "code",
   "execution_count": 6,
   "id": "c11092f2",
   "metadata": {},
   "outputs": [
    {
     "name": "stdout",
     "output_type": "stream",
     "text": [
      "please enter your first number\t1\n",
      "please enter your second number\t5\n",
      "please enter your third number\t6\n",
      "please enter your fourth number\t8\n",
      "please enter your fifth number\t3\n"
     ]
    },
    {
     "data": {
      "text/plain": [
       "23"
      ]
     },
     "execution_count": 6,
     "metadata": {},
     "output_type": "execute_result"
    }
   ],
   "source": [
    "def ahmed(*nums):\n",
    "    return x+ y+ a+ b+ c\n",
    "\n",
    "x = int(input('please enter your first number\\t'))\n",
    "y = int(input('please enter your second number\\t'))\n",
    "a = int(input('please enter your third number\\t'))\n",
    "b = int(input('please enter your fourth number\\t'))\n",
    "c = int(input('please enter your fifth number\\t'))\n",
    "ahmed(x, y, a, b, c)"
   ]
  },
  {
   "cell_type": "markdown",
   "id": "7af65edf",
   "metadata": {},
   "source": [
    "### **kwargs EXAMPLES"
   ]
  },
  {
   "cell_type": "code",
   "execution_count": null,
   "id": "400fb5ed",
   "metadata": {},
   "outputs": [],
   "source": [
    "def dec(**data):\n",
    "    print('\\nData type of argument: ',type(data))\n",
    "    \n",
    "    for key, value in data.items():\n",
    "        print('{} is {}' .format(key, value))\n",
    "        \n",
    "\n",
    "dec(FirstName = 'Moaz', LastName = 'Hendy', Age = 20, PhoneNum = '+0201022154823', Email = 'asod')\n",
    "dec(FirstName = 'Ahmed', LastName = 'Khalid',  Age = 27, phoneNum = '010123456789')"
   ]
  },
  {
   "cell_type": "code",
   "execution_count": null,
   "id": "1ee4eff5",
   "metadata": {},
   "outputs": [],
   "source": []
  }
 ],
 "metadata": {
  "kernelspec": {
   "display_name": "Python 3 (ipykernel)",
   "language": "python",
   "name": "python3"
  },
  "language_info": {
   "codemirror_mode": {
    "name": "ipython",
    "version": 3
   },
   "file_extension": ".py",
   "mimetype": "text/x-python",
   "name": "python",
   "nbconvert_exporter": "python",
   "pygments_lexer": "ipython3",
   "version": "3.9.12"
  }
 },
 "nbformat": 4,
 "nbformat_minor": 5
}
