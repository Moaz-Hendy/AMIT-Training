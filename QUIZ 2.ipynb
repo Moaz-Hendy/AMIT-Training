{
 "cells": [
  {
   "cell_type": "code",
   "execution_count": 1,
   "id": "5229e68d",
   "metadata": {},
   "outputs": [],
   "source": [
    "def lote(a, b):    #takes two values to compare them\n",
    "    if a%2==0 and b%2==0:   #check wheather they're even or not\n",
    "        if a < b:\n",
    "            return a    #return a if it's the smaller even number\n",
    "        else:\n",
    "            return b\n",
    "    else:    #if at least one is not even\n",
    "        if a > b:\n",
    "            return a    #return a if it's bigger than b\n",
    "        else:\n",
    "            return b"
   ]
  },
  {
   "cell_type": "code",
   "execution_count": 2,
   "id": "e9fe3bd8",
   "metadata": {},
   "outputs": [
    {
     "data": {
      "text/plain": [
       "2"
      ]
     },
     "execution_count": 2,
     "metadata": {},
     "output_type": "execute_result"
    }
   ],
   "source": [
    "lote(2,4)"
   ]
  },
  {
   "cell_type": "code",
   "execution_count": 3,
   "id": "b9f83961",
   "metadata": {},
   "outputs": [
    {
     "data": {
      "text/plain": [
       "5"
      ]
     },
     "execution_count": 3,
     "metadata": {},
     "output_type": "execute_result"
    }
   ],
   "source": [
    "lote(2,5)"
   ]
  },
  {
   "cell_type": "markdown",
   "id": "75430b97",
   "metadata": {},
   "source": [
    "### 1st is done"
   ]
  },
  {
   "cell_type": "code",
   "execution_count": 4,
   "id": "77a85e0e",
   "metadata": {},
   "outputs": [
    {
     "name": "stdout",
     "output_type": "stream",
     "text": [
      "enter two animal names separated by spaces onlyLevelheaded Llama\n"
     ]
    },
    {
     "data": {
      "text/plain": [
       "True"
      ]
     },
     "execution_count": 4,
     "metadata": {},
     "output_type": "execute_result"
    }
   ],
   "source": [
    "def animal_cracker(str):   #taked two strings to compare process them\n",
    "    if str[0][0] == str[1][0]:    #if statement to check wheather or not the first character from the first word is matching the first of the second\n",
    "        return True    #if yes, return True\n",
    "    else:\n",
    "        return False    #if no, return False\n",
    "    \n",
    "str = input('enter two animal names separated by spaces only') \n",
    "str = str.split()\n",
    "animal_cracker(str)   #calling the function"
   ]
  },
  {
   "cell_type": "code",
   "execution_count": 6,
   "id": "ada334c6",
   "metadata": {},
   "outputs": [
    {
     "data": {
      "text/plain": [
       "False"
      ]
     },
     "execution_count": 6,
     "metadata": {},
     "output_type": "execute_result"
    }
   ],
   "source": [
    "animal_cracker('Crazy Kangaroo')    #second check"
   ]
  },
  {
   "cell_type": "markdown",
   "id": "8bb19e92",
   "metadata": {},
   "source": [
    "### 2nd is done"
   ]
  },
  {
   "cell_type": "code",
   "execution_count": 7,
   "id": "70a1fd97",
   "metadata": {},
   "outputs": [
    {
     "data": {
      "text/plain": [
       "True"
      ]
     },
     "execution_count": 7,
     "metadata": {},
     "output_type": "execute_result"
    }
   ],
   "source": [
    "def makes_twenty(n1, n2):    #creating a functoin with two integer parameters\n",
    "    if n1 == 20 or n2 == 20:    #setting a condition of at least one is equal to 20\n",
    "        return True   #if yes, retrun True\n",
    "    elif n1 + n2 == 20:    #setting an alternating condition of wheather their summation equals 20\n",
    "        return True   #is yes, return True\n",
    "    else:\n",
    "        return False    #if none of the previous conditions is true, return False\n",
    "    \n",
    "makes_twenty(20, 10)    #calling the function and checking"
   ]
  },
  {
   "cell_type": "code",
   "execution_count": 8,
   "id": "026ae027",
   "metadata": {},
   "outputs": [
    {
     "data": {
      "text/plain": [
       "False"
      ]
     },
     "execution_count": 8,
     "metadata": {},
     "output_type": "execute_result"
    }
   ],
   "source": [
    "makes_twenty(2, 3)    #another check"
   ]
  },
  {
   "cell_type": "markdown",
   "id": "90eb7b01",
   "metadata": {},
   "source": [
    "### 3rd is done"
   ]
  },
  {
   "cell_type": "code",
   "execution_count": 8,
   "id": "f3b18c08",
   "metadata": {},
   "outputs": [
    {
     "name": "stdout",
     "output_type": "stream",
     "text": [
      "enter the name to apply the function \tmacdonald\n"
     ]
    }
   ],
   "source": [
    "def old_mac(str):    #creating a functions with one parameter\n",
    "    for letter in str:\n",
    "        x = len(str)    #initializing x as the length of the name we're processing\n",
    "        i = 0    #initializing counter to stay in valid indexing\n",
    "        str0 = list()\n",
    "        if i % 4 == 0 and i >= x:    #if counter is divisible by 4, and we're in valid indexing \n",
    "            ul = letter.upper()    #set the corresponding letter in upper case\n",
    "            str0 = str0.append(ul)    #add that letter to the list we have already sat\n",
    "        else:    #if not\n",
    "            sl = letter    #take that letter as it is\n",
    "            str0 = str0.append(sl)    #add that letter to the same list\n",
    "        i += 1\n",
    "    return str0    #return the final list\n",
    "    \n",
    "str = input('enter the name to apply the function \\t')\n",
    "str = str.split()\n",
    "old_mac(str)"
   ]
  },
  {
   "cell_type": "markdown",
   "id": "face6387",
   "metadata": {},
   "source": [
    "### 4th has a logical error"
   ]
  },
  {
   "cell_type": "code",
   "execution_count": 11,
   "id": "d8ca1c6b",
   "metadata": {},
   "outputs": [],
   "source": [
    "def almost_there(n):\n",
    "    if n >= 90 and n <= 110:    #if the number is in the range between 90 and 110, return True\n",
    "        return True\n",
    "    elif n >= 190 and n <= 210:    #if the number is in the range between 190 and 210, return True\n",
    "        return True\n",
    "    else:    #if the number is not either in the two of the previous cases, return False\n",
    "        return False"
   ]
  },
  {
   "cell_type": "code",
   "execution_count": 12,
   "id": "aba3a1ec",
   "metadata": {},
   "outputs": [
    {
     "data": {
      "text/plain": [
       "True"
      ]
     },
     "execution_count": 12,
     "metadata": {},
     "output_type": "execute_result"
    }
   ],
   "source": [
    "almost_there(104)"
   ]
  },
  {
   "cell_type": "code",
   "execution_count": 13,
   "id": "81d6047d",
   "metadata": {},
   "outputs": [
    {
     "data": {
      "text/plain": [
       "False"
      ]
     },
     "execution_count": 13,
     "metadata": {},
     "output_type": "execute_result"
    }
   ],
   "source": [
    "almost_there(150)"
   ]
  },
  {
   "cell_type": "code",
   "execution_count": 14,
   "id": "bbda05d0",
   "metadata": {},
   "outputs": [
    {
     "data": {
      "text/plain": [
       "True"
      ]
     },
     "execution_count": 14,
     "metadata": {},
     "output_type": "execute_result"
    }
   ],
   "source": [
    "almost_there(209)"
   ]
  },
  {
   "cell_type": "markdown",
   "id": "c9a5d119",
   "metadata": {},
   "source": [
    "### 5th is done"
   ]
  },
  {
   "cell_type": "code",
   "execution_count": 75,
   "id": "8b865a28",
   "metadata": {},
   "outputs": [
    {
     "data": {
      "text/plain": [
       "True"
      ]
     },
     "execution_count": 75,
     "metadata": {},
     "output_type": "execute_result"
    }
   ],
   "source": [
    "def has_33(ls):    #create function\n",
    "    for num in ls:    #for every number in this list\n",
    "        i = 0    #set counter at 0\n",
    "        if i <= len(ls):    #to keep it in valid indexing we sat this condition\n",
    "            if num == 3 and ls[i+1] == 3:    #if number and the one after it equal 3, return True\n",
    "                x = True\n",
    "            else:    #if not, return False\n",
    "                x = False\n",
    "        i += 1    #\n",
    "    return x    #\n",
    "has_33([1, 3, 3])"
   ]
  },
  {
   "cell_type": "code",
   "execution_count": 76,
   "id": "dfa4c085",
   "metadata": {},
   "outputs": [
    {
     "data": {
      "text/plain": [
       "True"
      ]
     },
     "execution_count": 76,
     "metadata": {},
     "output_type": "execute_result"
    }
   ],
   "source": [
    "has_33([1, 3, 1, 3])"
   ]
  },
  {
   "cell_type": "code",
   "execution_count": 77,
   "id": "41c88309",
   "metadata": {},
   "outputs": [
    {
     "data": {
      "text/plain": [
       "False"
      ]
     },
     "execution_count": 77,
     "metadata": {},
     "output_type": "execute_result"
    }
   ],
   "source": [
    "has_33([3, 1, 3])"
   ]
  },
  {
   "cell_type": "markdown",
   "id": "dee66f88",
   "metadata": {},
   "source": [
    "### 6th is done, somehow.."
   ]
  },
  {
   "cell_type": "code",
   "execution_count": 87,
   "id": "dd347678",
   "metadata": {},
   "outputs": [
    {
     "data": {
      "text/plain": [
       "'HHHHeeeyyy'"
      ]
     },
     "execution_count": 87,
     "metadata": {},
     "output_type": "execute_result"
    }
   ],
   "source": [
    "def Paper_Doll(text):   #create function \n",
    "    text = list(text)   #initializing text as an empty list\n",
    "    i = 0   #initializing counter at 0\n",
    "    x = text[0][::]   #using indexing to make the whole output a single string\n",
    "    for letter in text:   #for every letter in that string or list of strings\n",
    "        text[i] = letter*3   #repeat that letter three time\n",
    "        x = x + text[i][::]   #add those three repeated letters to the list we have already sat\n",
    "        i +=1   #increament counter by one\n",
    "       \n",
    "    return x\n",
    "Paper_Doll('Hey')   #checking"
   ]
  },
  {
   "cell_type": "code",
   "execution_count": 88,
   "id": "e2f7e871",
   "metadata": {},
   "outputs": [
    {
     "data": {
      "text/plain": [
       "'MMMMiiissssssiiissssssiiippppppiii'"
      ]
     },
     "execution_count": 88,
     "metadata": {},
     "output_type": "execute_result"
    }
   ],
   "source": [
    "Paper_Doll('Mississippi')    #checking"
   ]
  },
  {
   "cell_type": "markdown",
   "id": "4a670dca",
   "metadata": {},
   "source": [
    "### 7th somehow it worked :)"
   ]
  },
  {
   "cell_type": "code",
   "execution_count": 90,
   "id": "3f442ebf",
   "metadata": {},
   "outputs": [],
   "source": [
    "def blackjack(a, b, c):    #create the function\n",
    "    x = a+b+c    #setting x as the summation of those three parameters\n",
    "    if a <= 11 and b <= 11 and c <= 11: #condition to check if they're in the desired range\n",
    "        if x <= 21:   #if the summation is valid, return summation\n",
    "            return x\n",
    "        elif a <= 11 or b <= 11 or c <= 11:    #if at least one is in range, return summation -10\n",
    "            return x - 10\n",
    "        elif x-10 >= 21:    #if none is true, return 'Bust'\n",
    "            x = 'Bust'\n",
    "            return x\n",
    "    return x"
   ]
  },
  {
   "cell_type": "code",
   "execution_count": 91,
   "id": "b3ce61ad",
   "metadata": {},
   "outputs": [
    {
     "data": {
      "text/plain": [
       "18"
      ]
     },
     "execution_count": 91,
     "metadata": {},
     "output_type": "execute_result"
    }
   ],
   "source": [
    "blackjack(5,6,7)   #checking"
   ]
  },
  {
   "cell_type": "code",
   "execution_count": 92,
   "id": "88e41709",
   "metadata": {},
   "outputs": [
    {
     "data": {
      "text/plain": [
       "17"
      ]
     },
     "execution_count": 92,
     "metadata": {},
     "output_type": "execute_result"
    }
   ],
   "source": [
    "blackjack(9,9,9)    #checking"
   ]
  },
  {
   "cell_type": "code",
   "execution_count": 97,
   "id": "a6256b12",
   "metadata": {},
   "outputs": [
    {
     "data": {
      "text/plain": [
       "19"
      ]
     },
     "execution_count": 97,
     "metadata": {},
     "output_type": "execute_result"
    }
   ],
   "source": [
    "blackjack(9,9,11)    #checking"
   ]
  },
  {
   "cell_type": "markdown",
   "id": "5a25d8c2",
   "metadata": {},
   "source": [
    "### 8th is done"
   ]
  },
  {
   "cell_type": "code",
   "execution_count": 108,
   "id": "cc2ead12",
   "metadata": {},
   "outputs": [],
   "source": [
    "def summer_69(arr):\n",
    "    "
   ]
  },
  {
   "cell_type": "code",
   "execution_count": 109,
   "id": "8e5d0d67",
   "metadata": {},
   "outputs": [
    {
     "data": {
      "text/plain": [
       "0"
      ]
     },
     "execution_count": 109,
     "metadata": {},
     "output_type": "execute_result"
    }
   ],
   "source": [
    "summer_69([1, 3, 5])"
   ]
  },
  {
   "cell_type": "code",
   "execution_count": 110,
   "id": "ceef69ae",
   "metadata": {},
   "outputs": [
    {
     "data": {
      "text/plain": [
       "6"
      ]
     },
     "execution_count": 110,
     "metadata": {},
     "output_type": "execute_result"
    }
   ],
   "source": [
    "summer_69([4, 5, 6, 7, 8, 9])"
   ]
  },
  {
   "cell_type": "code",
   "execution_count": 111,
   "id": "25858350",
   "metadata": {},
   "outputs": [
    {
     "data": {
      "text/plain": [
       "6"
      ]
     },
     "execution_count": 111,
     "metadata": {},
     "output_type": "execute_result"
    }
   ],
   "source": [
    "summer_69([2, 1, 6, 9, 11])"
   ]
  },
  {
   "cell_type": "markdown",
   "id": "ea21145b",
   "metadata": {},
   "source": [
    "### :|"
   ]
  },
  {
   "cell_type": "code",
   "execution_count": 127,
   "id": "6385d97b",
   "metadata": {},
   "outputs": [],
   "source": [
    "def count_primes(num):\n",
    "    for nm in (0, num):\n",
    "        x = 0\n",
    "        n = 0\n",
    "        y = False\n",
    "        z = 0\n",
    "        while x in (1, num):\n",
    "            if nm % x == 0:\n",
    "                y = False\n",
    "            else:\n",
    "                y = True\n",
    "            x +=1\n",
    "        if y == True:\n",
    "            z = z + 1\n",
    "    return z\n"
   ]
  },
  {
   "cell_type": "code",
   "execution_count": 128,
   "id": "d70b8a19",
   "metadata": {},
   "outputs": [
    {
     "data": {
      "text/plain": [
       "0"
      ]
     },
     "execution_count": 128,
     "metadata": {},
     "output_type": "execute_result"
    }
   ],
   "source": [
    "count_primes(100)"
   ]
  },
  {
   "cell_type": "code",
   "execution_count": null,
   "id": "ca425448",
   "metadata": {},
   "outputs": [],
   "source": []
  }
 ],
 "metadata": {
  "kernelspec": {
   "display_name": "Python 3 (ipykernel)",
   "language": "python",
   "name": "python3"
  },
  "language_info": {
   "codemirror_mode": {
    "name": "ipython",
    "version": 3
   },
   "file_extension": ".py",
   "mimetype": "text/x-python",
   "name": "python",
   "nbconvert_exporter": "python",
   "pygments_lexer": "ipython3",
   "version": "3.9.12"
  }
 },
 "nbformat": 4,
 "nbformat_minor": 5
}
