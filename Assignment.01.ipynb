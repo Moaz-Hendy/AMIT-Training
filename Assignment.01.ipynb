{
 "cells": [
  {
   "cell_type": "markdown",
   "id": "1f911b9f",
   "metadata": {},
   "source": [
    "## Simple calculator with two ways to enter the values to be processed"
   ]
  },
  {
   "cell_type": "code",
   "execution_count": 1,
   "id": "2fb4807a",
   "metadata": {},
   "outputs": [],
   "source": [
    "#The first, by inserting each at a time"
   ]
  },
  {
   "cell_type": "code",
   "execution_count": 2,
   "id": "f954a6b6",
   "metadata": {},
   "outputs": [
    {
     "name": "stdout",
     "output_type": "stream",
     "text": [
      "Please enter the first number= 9\n"
     ]
    }
   ],
   "source": [
    "x = int( input('Please enter the first number= ') )"
   ]
  },
  {
   "cell_type": "code",
   "execution_count": 3,
   "id": "d9962794",
   "metadata": {},
   "outputs": [
    {
     "name": "stdout",
     "output_type": "stream",
     "text": [
      "Please enter the seconf number= 7\n"
     ]
    }
   ],
   "source": [
    "y = int( input('Please enter the seconf number= '))"
   ]
  },
  {
   "cell_type": "code",
   "execution_count": 4,
   "id": "f23ebed1",
   "metadata": {},
   "outputs": [
    {
     "name": "stdout",
     "output_type": "stream",
     "text": [
      "16\n"
     ]
    }
   ],
   "source": [
    "z = x + y\n",
    "print(z)"
   ]
  },
  {
   "cell_type": "code",
   "execution_count": 5,
   "id": "a00a5d3c",
   "metadata": {},
   "outputs": [],
   "source": [
    "#The second, by inserting both values at the same time"
   ]
  },
  {
   "cell_type": "code",
   "execution_count": 18,
   "id": "d7adc3f2",
   "metadata": {},
   "outputs": [
    {
     "name": "stdout",
     "output_type": "stream",
     "text": [
      "Please enter the two values in the following field5 9\n"
     ]
    }
   ],
   "source": [
    "x, y = input('Please enter the two values in the following field').split()"
   ]
  },
  {
   "cell_type": "code",
   "execution_count": null,
   "id": "79da014d",
   "metadata": {},
   "outputs": [],
   "source": [
    "int(z) = int(x) + int(y)"
   ]
  }
 ],
 "metadata": {
  "kernelspec": {
   "display_name": "Python 3 (ipykernel)",
   "language": "python",
   "name": "python3"
  },
  "language_info": {
   "codemirror_mode": {
    "name": "ipython",
    "version": 3
   },
   "file_extension": ".py",
   "mimetype": "text/x-python",
   "name": "python",
   "nbconvert_exporter": "python",
   "pygments_lexer": "ipython3",
   "version": "3.9.12"
  }
 },
 "nbformat": 4,
 "nbformat_minor": 5
}
