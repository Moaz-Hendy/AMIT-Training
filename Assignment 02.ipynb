{
 "cells": [
  {
   "cell_type": "markdown",
   "id": "fd5f3268",
   "metadata": {},
   "source": [
    "# Assignment 1"
   ]
  },
  {
   "cell_type": "code",
   "execution_count": 5,
   "id": "c0739340",
   "metadata": {},
   "outputs": [
    {
     "name": "stdout",
     "output_type": "stream",
     "text": [
      "##Test your knowledge \n",
      " \n",
      " **answer the following questions\n"
     ]
    }
   ],
   "source": [
    "print('##Test your knowledge \\n', '\\n', '**answer the following questions')"
   ]
  },
  {
   "cell_type": "markdown",
   "id": "1921ea52",
   "metadata": {},
   "source": [
    "## String"
   ]
  },
  {
   "cell_type": "code",
   "execution_count": 8,
   "id": "71775a2a",
   "metadata": {},
   "outputs": [
    {
     "data": {
      "text/plain": [
       "'e'"
      ]
     },
     "execution_count": 8,
     "metadata": {},
     "output_type": "execute_result"
    }
   ],
   "source": [
    "#Given the string 'hello' give an index command that returns 'e'. Enter your code in the cell below:\n",
    "a = 'hello'"
   ]
  },
  {
   "cell_type": "code",
   "execution_count": 9,
   "id": "3c213e0c",
   "metadata": {},
   "outputs": [
    {
     "data": {
      "text/plain": [
       "'e'"
      ]
     },
     "execution_count": 9,
     "metadata": {},
     "output_type": "execute_result"
    }
   ],
   "source": [
    "# Print out 'e' using indexing\n",
    "a[1]"
   ]
  },
  {
   "cell_type": "markdown",
   "id": "a78c489b",
   "metadata": {},
   "source": [
    "# Reverse the string using slicing"
   ]
  },
  {
   "cell_type": "code",
   "execution_count": 10,
   "id": "fbf4346b",
   "metadata": {},
   "outputs": [
    {
     "data": {
      "text/plain": [
       "'olleh'"
      ]
     },
     "execution_count": 10,
     "metadata": {},
     "output_type": "execute_result"
    }
   ],
   "source": [
    "s = 'hello'\n",
    "s[::-1]"
   ]
  },
  {
   "cell_type": "markdown",
   "id": "4f42286f",
   "metadata": {},
   "source": [
    "## Given the string hello, give two methods of producing the letter 'o' using indexing.\n"
   ]
  },
  {
   "cell_type": "code",
   "execution_count": 11,
   "id": "0cc80e0b",
   "metadata": {},
   "outputs": [
    {
     "data": {
      "text/plain": [
       "'o'"
      ]
     },
     "execution_count": 11,
     "metadata": {},
     "output_type": "execute_result"
    }
   ],
   "source": [
    "# The first method \n",
    "s[4]"
   ]
  },
  {
   "cell_type": "code",
   "execution_count": 12,
   "id": "d2377281",
   "metadata": {},
   "outputs": [
    {
     "data": {
      "text/plain": [
       "'o'"
      ]
     },
     "execution_count": 12,
     "metadata": {},
     "output_type": "execute_result"
    }
   ],
   "source": [
    "# The second method\n",
    "s[-1]"
   ]
  },
  {
   "cell_type": "markdown",
   "id": "c20b63fc",
   "metadata": {},
   "source": [
    "## Lists"
   ]
  },
  {
   "cell_type": "code",
   "execution_count": 28,
   "id": "bebe5d4e",
   "metadata": {},
   "outputs": [
    {
     "data": {
      "text/plain": [
       "[0, 0, 0]"
      ]
     },
     "execution_count": 28,
     "metadata": {},
     "output_type": "execute_result"
    }
   ],
   "source": [
    "#The first way to build [0, 0, 0]\n",
    "x = [0, 0]\n",
    "x.insert(1,0)\n",
    "x"
   ]
  },
  {
   "cell_type": "code",
   "execution_count": 26,
   "id": "5ee704f3",
   "metadata": {},
   "outputs": [
    {
     "data": {
      "text/plain": [
       "[0, 0, 0]"
      ]
     },
     "execution_count": 26,
     "metadata": {},
     "output_type": "execute_result"
    }
   ],
   "source": [
    "#The second way\n",
    "x = (0, 0, 0)\n",
    "x = list(x)\n",
    "x"
   ]
  },
  {
   "cell_type": "markdown",
   "id": "40969ad4",
   "metadata": {},
   "source": [
    "### Reassign 'hello' in this nested list to say 'goodbye' instead:"
   ]
  },
  {
   "cell_type": "code",
   "execution_count": 35,
   "id": "ce75f66c",
   "metadata": {},
   "outputs": [
    {
     "data": {
      "text/plain": [
       "[1, 2, [3, 4, 'goodbye']]"
      ]
     },
     "execution_count": 35,
     "metadata": {},
     "output_type": "execute_result"
    }
   ],
   "source": [
    "list3 = [1,2,[3,4,'hello']] \n",
    "list3[2][2] = 'goodbye'\n",
    "list3"
   ]
  },
  {
   "cell_type": "markdown",
   "id": "ae4b2ddb",
   "metadata": {},
   "source": [
    "## Sort the list below:"
   ]
  },
  {
   "cell_type": "code",
   "execution_count": 39,
   "id": "b26746b1",
   "metadata": {},
   "outputs": [
    {
     "data": {
      "text/plain": [
       "{1, 3, 4, 5, 6}"
      ]
     },
     "execution_count": 39,
     "metadata": {},
     "output_type": "execute_result"
    }
   ],
   "source": [
    "list4 = [5,3,4,6,1]\n",
    "set(list4)"
   ]
  },
  {
   "cell_type": "markdown",
   "id": "a9467a2f",
   "metadata": {},
   "source": [
    "## Dictionaries"
   ]
  },
  {
   "cell_type": "markdown",
   "id": "a9806db0",
   "metadata": {},
   "source": [
    "### Using keys and indexing, grab the 'hello' from the following dictionaries:"
   ]
  },
  {
   "cell_type": "code",
   "execution_count": 10,
   "id": "21d1ded0",
   "metadata": {},
   "outputs": [
    {
     "data": {
      "text/plain": [
       "'hello'"
      ]
     },
     "execution_count": 10,
     "metadata": {},
     "output_type": "execute_result"
    }
   ],
   "source": [
    "d = {'simple_key':'hello'}\n",
    "d['simple_key']"
   ]
  },
  {
   "cell_type": "code",
   "execution_count": 46,
   "id": "f03f9742",
   "metadata": {},
   "outputs": [
    {
     "data": {
      "text/plain": [
       "'hello'"
      ]
     },
     "execution_count": 46,
     "metadata": {},
     "output_type": "execute_result"
    }
   ],
   "source": [
    "d = {'k1':{'k2':'hello'}}\n",
    "d['k1']['k2']"
   ]
  },
  {
   "cell_type": "code",
   "execution_count": 8,
   "id": "6a867c3c",
   "metadata": {},
   "outputs": [
    {
     "data": {
      "text/plain": [
       "'hello'"
      ]
     },
     "execution_count": 8,
     "metadata": {},
     "output_type": "execute_result"
    }
   ],
   "source": [
    "d = {'k1':[{'nest_key':['this is deep',['hello']]}]}\n",
    "d['k1'][0]['nest_key'][1][0]\n",
    "# IT IS DEEP INDEED!"
   ]
  },
  {
   "cell_type": "code",
   "execution_count": 7,
   "id": "b97f1207",
   "metadata": {},
   "outputs": [
    {
     "data": {
      "text/plain": [
       "'hello'"
      ]
     },
     "execution_count": 7,
     "metadata": {},
     "output_type": "execute_result"
    }
   ],
   "source": [
    "d = {'k1':[1,2,{'k2':['this is tricky',{'tough':[1,2,['hello']]}]}]}\n",
    "d['k1'][2]['k2'][1]['tough'][2][0]"
   ]
  },
  {
   "cell_type": "markdown",
   "id": "1d18796f",
   "metadata": {},
   "source": [
    "### Given this nested list, use indexing to grab the word \"hello\""
   ]
  },
  {
   "cell_type": "code",
   "execution_count": 16,
   "id": "1c39417d",
   "metadata": {},
   "outputs": [
    {
     "data": {
      "text/plain": [
       "'hello'"
      ]
     },
     "execution_count": 16,
     "metadata": {},
     "output_type": "execute_result"
    }
   ],
   "source": [
    "lst = [1,2,[3,4],[5,[100,200,['hello']],23,11],1,7]\n",
    "lst[3][1][2][0]"
   ]
  },
  {
   "cell_type": "markdown",
   "id": "2ae26a7a",
   "metadata": {},
   "source": [
    "### Given this nested dictionary grab the word \"hello\""
   ]
  },
  {
   "cell_type": "code",
   "execution_count": 23,
   "id": "5fd6cf4d",
   "metadata": {},
   "outputs": [
    {
     "data": {
      "text/plain": [
       "'hello'"
      ]
     },
     "execution_count": 23,
     "metadata": {},
     "output_type": "execute_result"
    }
   ],
   "source": [
    "d = {'k1':[1,2,3,{'tricky':['oh','man','inception',{'target':[1,2,3,'hello']}]}]}\n",
    "d['k1'][3]['tricky'][3]['target'][3]"
   ]
  },
  {
   "cell_type": "markdown",
   "id": "d40e9a04",
   "metadata": {},
   "source": [
    "### Write a Python program to swap two variables."
   ]
  },
  {
   "cell_type": "code",
   "execution_count": null,
   "id": "1882bebd",
   "metadata": {},
   "outputs": [],
   "source": []
  },
  {
   "cell_type": "code",
   "execution_count": null,
   "id": "fd54863a",
   "metadata": {},
   "outputs": [],
   "source": [
    "#for some reason it reverses the first input :)\n",
    "x = list( input('enter whatever you may like \\t'))\n",
    "y = list( input('enter another one \\t'))\n",
    "z = list()\n",
    "for letter in x:\n",
    "    i = 0\n",
    "    z.insert(i, letter)\n",
    "    i = i + 1\n",
    "x = y\n",
    "print(z)\n",
    "print(y)"
   ]
  }
 ],
 "metadata": {
  "kernelspec": {
   "display_name": "Python 3 (ipykernel)",
   "language": "python",
   "name": "python3"
  },
  "language_info": {
   "codemirror_mode": {
    "name": "ipython",
    "version": 3
   },
   "file_extension": ".py",
   "mimetype": "text/x-python",
   "name": "python",
   "nbconvert_exporter": "python",
   "pygments_lexer": "ipython3",
   "version": "3.9.12"
  }
 },
 "nbformat": 4,
 "nbformat_minor": 5
}
